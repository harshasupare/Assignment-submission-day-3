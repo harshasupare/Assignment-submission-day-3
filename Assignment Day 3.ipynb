{
 "cells": [
  {
   "cell_type": "code",
   "execution_count": 4,
   "metadata": {},
   "outputs": [
    {
     "name": "stdout",
     "output_type": "stream",
     "text": [
      "*** Create numpy array using numpy.arange() ***\n",
      "Create a Numpy Array containing elements from 2 to 50 but at equal interval of 2\n",
      "Contents of the Array :  [ 2  4  6  8 10 12 14 16 18 20 22 24 26 28 30 32 34 36 38 40 42 44 46 48]\n",
      "Create a Numpy Array containing elements from 1 to 10 with default interval i.e. 1\n",
      "Contents of the Array :  [ 1  2  3  4  5  6  7  8  9 10 11 12 13 14 15 16 17 18 19 20 21 22 23 24\n",
      " 25 26 27 28 29 30 31 32 33 34 35 36 37 38 39 40 41 42 43 44 45 46 47 48\n",
      " 49]\n",
      "Create a Numpy Array containing elements up to 10 with default start and default step size\n",
      "Contents of the Array :  [ 0  1  2  3  4  5  6  7  8  9 10 11 12 13 14 15 16 17 18 19 20 21 22 23\n",
      " 24 25 26 27 28 29 30 31 32 33 34 35 36 37 38 39 40 41 42 43 44 45 46 47\n",
      " 48 49]\n"
     ]
    }
   ],
   "source": [
    "# python program for numpy array starting from 2 till 50 \n",
    "import numpy as np\n",
    "def main():\n",
    "   print('*** Create numpy array using numpy.arange() ***')\n",
    "   print('Create a Numpy Array containing elements from 2 to 50 but at equal interval of 2')\n",
    "   # Start = 2, Stop = 50, Step Size = 3\n",
    "   arr = np.arange(2, 50, 2)\n",
    "   print('Contents of the Array : ', arr)\n",
    "   print('Create a Numpy Array containing elements from 1 to 10 with default interval i.e. 1')\n",
    "   # Start = 1, Stop = 50. As Step Size is not provided, so default value be 1\n",
    "   arr = np.arange(1, 50)\n",
    "   print('Contents of the Array : ', arr)\n",
    "   print('Create a Numpy Array containing elements up to 10 with default start and default step size')\n",
    "   # Stop = 50. As Start & Step Size is not provided, so default value be 0 & 1 respectively\n",
    "   arr = np.arange(50)\n",
    "   print('Contents of the Array : ', arr)\n",
    "if __name__ == '__main__':\n",
    "   main()\n"
   ]
  },
  {
   "cell_type": "code",
   "execution_count": 5,
   "metadata": {},
   "outputs": [
    {
     "name": "stdout",
     "output_type": "stream",
     "text": [
      "Concatenated list using naive method : [1, 4, 5, 6, 5, 3, 5, 7, 2, 5]\n"
     ]
    }
   ],
   "source": [
    "# Python3 code to demonstrate list \n",
    "# concatenation using naive method  \n",
    "  \n",
    "# Initializing lists \n",
    "test_list1 = [1, 4, 5, 6, 5] \n",
    "test_list2 = [3, 5, 7, 2, 5] \n",
    "  \n",
    "# using naive method to concat \n",
    "for i in test_list2 : \n",
    "    test_list1.append(i) \n",
    "  \n",
    "# Printing concatenated list \n",
    "print (\"Concatenated list using naive method : \" \n",
    "                              + str(test_list1)) \n"
   ]
  },
  {
   "cell_type": "code",
   "execution_count": 6,
   "metadata": {},
   "outputs": [
    {
     "name": "stdout",
     "output_type": "stream",
     "text": [
      "Array is of type:  <class 'numpy.ndarray'>\n",
      "No. of dimensions:  2\n",
      "Shape of array:  (2, 3)\n",
      "Size of array:  6\n",
      "Array stores elements of type:  int32\n"
     ]
    }
   ],
   "source": [
    "# Python program to demonstrate \n",
    "# basic array characteristics\n",
    "import numpy as np\n",
    " \n",
    "# Creating array object\n",
    "arr = np.array( [[ 1, 2, 3],\n",
    "                 [ 4, 2, 5]] )\n",
    " \n",
    "# Printing type of arr object\n",
    "print(\"Array is of type: \", type(arr))\n",
    " \n",
    "# Printing array dimensions (axes)\n",
    "print(\"No. of dimensions: \", arr.ndim)\n",
    " \n",
    "# Printing shape of array\n",
    "print(\"Shape of array: \", arr.shape)\n",
    " \n",
    "# Printing size (total number of elements) of array\n",
    "print(\"Size of array: \", arr.size)\n",
    " \n",
    "# Printing type of elements in array\n",
    "print(\"Array stores elements of type: \", arr.dtype)"
   ]
  },
  {
   "cell_type": "code",
   "execution_count": 15,
   "metadata": {},
   "outputs": [
    {
     "ename": "NameError",
     "evalue": "name 'row_vec' is not defined",
     "output_type": "error",
     "traceback": [
      "\u001b[1;31m---------------------------------------------------------------------------\u001b[0m",
      "\u001b[1;31mNameError\u001b[0m                                 Traceback (most recent call last)",
      "\u001b[1;32m<ipython-input-15-61ef14c5ff0f>\u001b[0m in \u001b[0;36m<module>\u001b[1;34m\u001b[0m\n\u001b[0;32m      6\u001b[0m \u001b[1;33m\u001b[0m\u001b[0m\n\u001b[0;32m      7\u001b[0m \u001b[1;31m# make it as row vector by inserting an axis along first dimension\u001b[0m\u001b[1;33m\u001b[0m\u001b[1;33m\u001b[0m\u001b[1;33m\u001b[0m\u001b[0m\n\u001b[1;32m----> 8\u001b[1;33m \u001b[0mIn\u001b[0m \u001b[1;33m[\u001b[0m\u001b[1;36m9\u001b[0m\u001b[1;33m]\u001b[0m\u001b[1;33m:\u001b[0m \u001b[0mrow_vec\u001b[0m \u001b[1;33m=\u001b[0m \u001b[0marr\u001b[0m\u001b[1;33m[\u001b[0m\u001b[0mnp\u001b[0m\u001b[1;33m.\u001b[0m\u001b[0mnewaxis\u001b[0m\u001b[1;33m,\u001b[0m \u001b[1;33m:\u001b[0m\u001b[1;33m]\u001b[0m     \u001b[1;31m# arr[None, :]\u001b[0m\u001b[1;33m\u001b[0m\u001b[1;33m\u001b[0m\u001b[0m\n\u001b[0m\u001b[0;32m      9\u001b[0m \u001b[0mIn\u001b[0m \u001b[1;33m[\u001b[0m\u001b[1;36m10\u001b[0m\u001b[1;33m]\u001b[0m\u001b[1;33m:\u001b[0m \u001b[0mrow_vec\u001b[0m\u001b[1;33m.\u001b[0m\u001b[0mshape\u001b[0m\u001b[1;33m\u001b[0m\u001b[1;33m\u001b[0m\u001b[0m\n\u001b[0;32m     10\u001b[0m \u001b[0mOut\u001b[0m\u001b[1;33m[\u001b[0m\u001b[1;36m10\u001b[0m\u001b[1;33m]\u001b[0m\u001b[1;33m:\u001b[0m \u001b[1;33m(\u001b[0m\u001b[1;36m1\u001b[0m\u001b[1;33m,\u001b[0m \u001b[1;36m4\u001b[0m\u001b[1;33m)\u001b[0m\u001b[1;33m\u001b[0m\u001b[1;33m\u001b[0m\u001b[0m\n",
      "\u001b[1;31mNameError\u001b[0m: name 'row_vec' is not defined"
     ]
    }
   ],
   "source": [
    "#python program to convert 1D array into 2D array\n",
    "# 1D array\n",
    "In [7]: arr = np.arange(4)\n",
    "In [8]: arr.shape\n",
    "Out[8]: (4,)\n",
    "\n",
    "# make it as row vector by inserting an axis along first dimension\n",
    "In [9]: row_vec = arr[np.newaxis, :]     \n",
    "In [10]: row_vec.shape\n",
    "Out[10]: (1, 4)\n",
    "\n",
    "# make it as column vector by inserting an axis along second dimension\n",
    "In [11]: col_vec = arr[:, np.newaxis]   \n",
    "In [12]: col_vec.shape\n",
    "Out[12]: (4, 1)"
   ]
  },
  {
   "cell_type": "code",
   "execution_count": 16,
   "metadata": {},
   "outputs": [
    {
     "name": "stdout",
     "output_type": "stream",
     "text": [
      "Vertical Append: [[1 2 3]\n",
      " [4 5 6]]\n",
      "Horizontal Append: [1 2 3 4 5 6]\n"
     ]
    }
   ],
   "source": [
    "# Vertical Stack\n",
    "import numpy as np\n",
    "f = np.array([1,2,3])\n",
    "g = np.array([4,5,6])\n",
    "\n",
    "print('Vertical Append:', np.vstack((f, g)))\n",
    "# Horitzontal Stack\n",
    "import numpy as np\n",
    "f = np.array([1,2,3])\n",
    "g = np.array([4,5,6])\n",
    "\n",
    "print('Horizontal Append:', np.hstack((f, g)))"
   ]
  },
  {
   "cell_type": "code",
   "execution_count": 17,
   "metadata": {},
   "outputs": [
    {
     "name": "stdout",
     "output_type": "stream",
     "text": [
      "No of unique items are: 5\n"
     ]
    }
   ],
   "source": [
    "# taking an input list \n",
    "input_list = [1, 2, 2, 5, 8, 4, 4, 8] \n",
    "  \n",
    "# taking an input list \n",
    "l1 = [] \n",
    "  \n",
    "# taking an counter \n",
    "count = 0\n",
    "  \n",
    "# travesing the array \n",
    "for item in input_list: \n",
    "    if item not in l1: \n",
    "        count += 1\n",
    "        l1.append(item) \n",
    "  \n",
    "# printing the output \n",
    "print(\"No of unique items are:\", count) "
   ]
  },
  {
   "cell_type": "code",
   "execution_count": null,
   "metadata": {},
   "outputs": [],
   "source": []
  }
 ],
 "metadata": {
  "kernelspec": {
   "display_name": "Python 3",
   "language": "python",
   "name": "python3"
  },
  "language_info": {
   "codemirror_mode": {
    "name": "ipython",
    "version": 3
   },
   "file_extension": ".py",
   "mimetype": "text/x-python",
   "name": "python",
   "nbconvert_exporter": "python",
   "pygments_lexer": "ipython3",
   "version": "3.8.3"
  }
 },
 "nbformat": 4,
 "nbformat_minor": 4
}
